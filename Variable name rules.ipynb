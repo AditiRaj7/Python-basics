{
 "cells": [
  {
   "cell_type": "markdown",
   "id": "5c7fd15c",
   "metadata": {},
   "source": [
    "# Variable name defining rules"
   ]
  },
  {
   "cell_type": "markdown",
   "id": "a5347e2c",
   "metadata": {},
   "source": [
    "## What is a variable ?\n",
    "Variables are used for storing values, python has no command for declaring the variables. \n",
    "When you assign a value, a variable is created."
   ]
  },
  {
   "cell_type": "markdown",
   "id": "75c1253e",
   "metadata": {},
   "source": [
    "## Rules for declaring variables  \n",
    "#### Variable names can start with alphabets or underscore\n",
    "#### Operators/special characters are not allowed other than underscore\n",
    "#### Space is not allowed \n",
    "#### It is case sensitive\n",
    "#### Numbers can be included in the name, accept for beginning the name"
   ]
  },
  {
   "cell_type": "code",
   "execution_count": 1,
   "id": "912fdc99",
   "metadata": {},
   "outputs": [
    {
     "name": "stdout",
     "output_type": "stream",
     "text": [
      "14\n"
     ]
    }
   ],
   "source": [
    "## Defining variable names \n",
    "x = 14\n",
    "print(x)"
   ]
  },
  {
   "cell_type": "code",
   "execution_count": 2,
   "id": "fb6bab63",
   "metadata": {},
   "outputs": [
    {
     "name": "stdout",
     "output_type": "stream",
     "text": [
      "abc\n"
     ]
    }
   ],
   "source": [
    "_abc = 'abc'\n",
    "print(_abc)"
   ]
  },
  {
   "cell_type": "code",
   "execution_count": 3,
   "id": "d2b8f81b",
   "metadata": {},
   "outputs": [
    {
     "name": "stdout",
     "output_type": "stream",
     "text": [
      "ABC\n"
     ]
    }
   ],
   "source": [
    "_ABC = 'ABC'\n",
    "print(_ABC) # Case sensitive"
   ]
  },
  {
   "cell_type": "code",
   "execution_count": 4,
   "id": "bb45cf83",
   "metadata": {},
   "outputs": [
    {
     "ename": "SyntaxError",
     "evalue": "invalid syntax (Temp/ipykernel_25988/2787849657.py, line 1)",
     "output_type": "error",
     "traceback": [
      "\u001b[1;36m  File \u001b[1;32m\"C:\\Users\\Rajeev\\AppData\\Local\\Temp/ipykernel_25988/2787849657.py\"\u001b[1;36m, line \u001b[1;32m1\u001b[0m\n\u001b[1;33m    1x=45 # error : numbers can't begin variable name\u001b[0m\n\u001b[1;37m     ^\u001b[0m\n\u001b[1;31mSyntaxError\u001b[0m\u001b[1;31m:\u001b[0m invalid syntax\n"
     ]
    }
   ],
   "source": [
    "1x=45 # error : numbers can't begin variable name"
   ]
  },
  {
   "cell_type": "code",
   "execution_count": 5,
   "id": "a56e09ee",
   "metadata": {},
   "outputs": [
    {
     "name": "stdout",
     "output_type": "stream",
     "text": [
      "33\n"
     ]
    }
   ],
   "source": [
    "var0value = 33 # nos can be included in name of variable but not at beginning if name\n",
    "print(var0value)"
   ]
  },
  {
   "cell_type": "code",
   "execution_count": 6,
   "id": "ea8879fb",
   "metadata": {},
   "outputs": [
    {
     "name": "stdout",
     "output_type": "stream",
     "text": [
      "44\n"
     ]
    }
   ],
   "source": [
    "var_value = 44\n",
    "print(var_value)"
   ]
  },
  {
   "cell_type": "code",
   "execution_count": 7,
   "id": "75a70e70",
   "metadata": {},
   "outputs": [
    {
     "ename": "SyntaxError",
     "evalue": "invalid syntax (Temp/ipykernel_25988/1528836552.py, line 1)",
     "output_type": "error",
     "traceback": [
      "\u001b[1;36m  File \u001b[1;32m\"C:\\Users\\Rajeev\\AppData\\Local\\Temp/ipykernel_25988/1528836552.py\"\u001b[1;36m, line \u001b[1;32m1\u001b[0m\n\u001b[1;33m    var value = 55 #error : space in between\u001b[0m\n\u001b[1;37m        ^\u001b[0m\n\u001b[1;31mSyntaxError\u001b[0m\u001b[1;31m:\u001b[0m invalid syntax\n"
     ]
    }
   ],
   "source": [
    "var value = 55 #error : space in between"
   ]
  },
  {
   "cell_type": "code",
   "execution_count": 8,
   "id": "c6468a00",
   "metadata": {},
   "outputs": [
    {
     "ename": "SyntaxError",
     "evalue": "cannot assign to operator (Temp/ipykernel_25988/4116963301.py, line 1)",
     "output_type": "error",
     "traceback": [
      "\u001b[1;36m  File \u001b[1;32m\"C:\\Users\\Rajeev\\AppData\\Local\\Temp/ipykernel_25988/4116963301.py\"\u001b[1;36m, line \u001b[1;32m1\u001b[0m\n\u001b[1;33m    var*name = 'var1' # error : other than underscore, no other special charaters allowed\u001b[0m\n\u001b[1;37m    ^\u001b[0m\n\u001b[1;31mSyntaxError\u001b[0m\u001b[1;31m:\u001b[0m cannot assign to operator\n"
     ]
    }
   ],
   "source": [
    "var*name = 'var1' # error : other than underscore, no other special charaters allowed"
   ]
  }
 ],
 "metadata": {
  "kernelspec": {
   "display_name": "Python 3 (ipykernel)",
   "language": "python",
   "name": "python3"
  },
  "language_info": {
   "codemirror_mode": {
    "name": "ipython",
    "version": 3
   },
   "file_extension": ".py",
   "mimetype": "text/x-python",
   "name": "python",
   "nbconvert_exporter": "python",
   "pygments_lexer": "ipython3",
   "version": "3.9.7"
  }
 },
 "nbformat": 4,
 "nbformat_minor": 5
}
